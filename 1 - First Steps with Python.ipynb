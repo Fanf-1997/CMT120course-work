{
 "cells": [
  {
   "cell_type": "markdown",
   "metadata": {},
   "source": [
    "# 1 - First Steps with Python\n",
    "\n",
    "Whenever you are experimenting with a new feature, you should try\n",
    "to make mistakes.  For example, in the ''Hello, world!'' program,\n",
    "what happens if you leave out one of the quotation marks?  What\n",
    "if you leave out both?  What if you spell <code>print</code> wrong?\n",
    "\n",
    "This kind of experiment helps you remember what you read; it also\n",
    "helps when you are programming, because you get to know what the error\n",
    "messages mean.  It is better to make mistakes now and on purpose than\n",
    "later and accidentally.\n",
    "\n",
    "## Exercise 1\n",
    "\n",
    "1. In a print statement, what happens if you leave out one of the parentheses, or both?\n",
    "\n",
    "2. If you are trying to print a string, what happens if you leave out one of the quotation marks, or both?\n",
    "\n",
    "3. You can use a minus sign to make a negative number like -2.  What happens if you put a plus sign before a number? What about 2++2?\n",
    "\n",
    "3. In math notation, leading zeros are ok, as in _09_. What happens if you try this in Python?  What about 011?\n",
    "\n",
    "4. What happens if you have two values with no operator between them?\n",
    "\n",
    "## Exercise 2\n",
    "\n",
    "Start the Python interpreter and use it as a calculator.\n",
    "\n",
    "1. How many seconds are there in 42 minutes 42 seconds?"
   ]
  },
  {
   "cell_type": "code",
   "execution_count": null,
   "metadata": {},
   "outputs": [],
   "source": []
  },
  {
   "cell_type": "markdown",
   "metadata": {},
   "source": [
    "2. How many miles are there in 10 kilometers?  Hint: there are 1.61 kilometers in a mile."
   ]
  },
  {
   "cell_type": "code",
   "execution_count": null,
   "metadata": {},
   "outputs": [],
   "source": []
  },
  {
   "cell_type": "markdown",
   "metadata": {},
   "source": [
    "3. If you run a 10 kilometer race in 42 minutes 42 seconds, what is your average speed in miles per hour?"
   ]
  },
  {
   "cell_type": "code",
   "execution_count": null,
   "metadata": {},
   "outputs": [],
   "source": []
  }
 ],
 "metadata": {
  "kernelspec": {
   "display_name": "Python 3",
   "language": "python",
   "name": "python3"
  },
  "language_info": {
   "codemirror_mode": {
    "name": "ipython",
    "version": 3
   },
   "file_extension": ".py",
   "mimetype": "text/x-python",
   "name": "python",
   "nbconvert_exporter": "python",
   "pygments_lexer": "ipython3",
   "version": "3.7.7"
  }
 },
 "nbformat": 4,
 "nbformat_minor": 4
}
